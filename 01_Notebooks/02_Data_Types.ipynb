{
 "cells": [
  {
   "cell_type": "markdown",
   "id": "d75ecb9f",
   "metadata": {},
   "source": [
    "# Data Types Numpy\n",
    "* Un array puede tener solo un tipo de dato\n",
    "* Un array no puede tener mezclado mas de un tipo de dato\n",
    "* Los tipos de dato que se pueden manejar: int64, float64, bool, S21 (string)"
   ]
  },
  {
   "cell_type": "code",
   "execution_count": 1,
   "id": "e4fb6100",
   "metadata": {},
   "outputs": [],
   "source": [
    "# Libraries\n",
    "import numpy as np"
   ]
  },
  {
   "cell_type": "markdown",
   "id": "7c591e3f",
   "metadata": {},
   "source": [
    "## Comandos\n",
    "* ````np.array```` -> Convierte una lista en array\n",
    "* ````dtype```` -> Indica el tipo de dato del array. Con una bandera, puede ser usado para convertir de un tipo de dato a otro tipo de dato. Ver In[5]\n",
    "* ````astype```` -> Sirve para covnertir de un tipo de dato a otro.\n",
    "* ````np.float64```` -> Junto con astype, convierte de un tipo de dato a float64\n",
    "* ````no.bool_```` -> Junto con astype, convierte de un tipo de dato a booleano\n",
    "* ````np.string_```` -> Junto con astype, convierte de un tipo de dato a string\n",
    "* ````np.int8```` -> Junto con astype, convierte de un tipo de dato a int8"
   ]
  },
  {
   "cell_type": "code",
   "execution_count": 6,
   "id": "5ecfb20f",
   "metadata": {},
   "outputs": [
    {
     "data": {
      "text/plain": [
       "array([1, 2, 3, 4])"
      ]
     },
     "execution_count": 6,
     "metadata": {},
     "output_type": "execute_result"
    }
   ],
   "source": [
    "# definir array\n",
    "arr = np.array([1,2,3,4])\n",
    "arr"
   ]
  },
  {
   "cell_type": "code",
   "execution_count": 7,
   "id": "3499b37b",
   "metadata": {},
   "outputs": [
    {
     "data": {
      "text/plain": [
       "dtype('int64')"
      ]
     },
     "execution_count": 7,
     "metadata": {},
     "output_type": "execute_result"
    }
   ],
   "source": [
    "# Indicar el tipo de dato\n",
    "arr.dtype"
   ]
  },
  {
   "cell_type": "markdown",
   "id": "c5af5f9c",
   "metadata": {},
   "source": [
    "### Maneras de cambiar a otro tipo de dato. \n",
    "#### De int64 a float64\n",
    "* Los número flotantes (decimales) son usados en redes neuronales, tensoflow\n"
   ]
  },
  {
   "cell_type": "code",
   "execution_count": 5,
   "id": "6825c54d",
   "metadata": {},
   "outputs": [
    {
     "data": {
      "text/plain": [
       "dtype('float64')"
      ]
     },
     "execution_count": 5,
     "metadata": {},
     "output_type": "execute_result"
    }
   ],
   "source": [
    "# Opción 1\n",
    "arr2 = np.array([34,45,56], dtype='float64')\n",
    "arr2.dtype"
   ]
  },
  {
   "cell_type": "code",
   "execution_count": 8,
   "id": "e69cade6",
   "metadata": {},
   "outputs": [
    {
     "data": {
      "text/plain": [
       "array([34., 45., 56.])"
      ]
     },
     "execution_count": 8,
     "metadata": {},
     "output_type": "execute_result"
    }
   ],
   "source": [
    "arr2"
   ]
  },
  {
   "cell_type": "code",
   "execution_count": 10,
   "id": "4090eb7f",
   "metadata": {},
   "outputs": [
    {
     "data": {
      "text/plain": [
       "dtype('int64')"
      ]
     },
     "execution_count": 10,
     "metadata": {},
     "output_type": "execute_result"
    }
   ],
   "source": [
    "# Opción 2\n",
    "arr.astype(np.float64)\n",
    "arr.dtype"
   ]
  },
  {
   "cell_type": "markdown",
   "id": "1c8e2878",
   "metadata": {},
   "source": [
    "#### De int64 a booleano\n",
    "* En la lógica booleana, el \"0\" siempre es \"False\", mientras que los demás números son \"True\""
   ]
  },
  {
   "cell_type": "code",
   "execution_count": 12,
   "id": "e185d89a",
   "metadata": {},
   "outputs": [
    {
     "data": {
      "text/plain": [
       "array([False,  True,  True,  True,  True,  True,  True])"
      ]
     },
     "execution_count": 12,
     "metadata": {},
     "output_type": "execute_result"
    }
   ],
   "source": [
    "arr3 = np.array([0,1,2,3,4,5,6])\n",
    "arr3 = arr3.astype(np.bool_)\n",
    "arr3"
   ]
  },
  {
   "cell_type": "code",
   "execution_count": 13,
   "id": "eed5cbf9",
   "metadata": {},
   "outputs": [
    {
     "data": {
      "text/plain": [
       "dtype('bool')"
      ]
     },
     "execution_count": 13,
     "metadata": {},
     "output_type": "execute_result"
    }
   ],
   "source": [
    "arr3.dtype"
   ]
  },
  {
   "cell_type": "markdown",
   "id": "c7bae78d",
   "metadata": {},
   "source": [
    "#### De int64 a string"
   ]
  },
  {
   "cell_type": "code",
   "execution_count": 14,
   "id": "8ce0594a",
   "metadata": {},
   "outputs": [
    {
     "data": {
      "text/plain": [
       "array([b'0', b'1', b'2', b'3', b'4', b'5', b'6'], dtype='|S21')"
      ]
     },
     "execution_count": 14,
     "metadata": {},
     "output_type": "execute_result"
    }
   ],
   "source": [
    "arr4 = np.array([0,1,2,3,4,5,6])\n",
    "arr4 = arr4.astype(np.string_)\n",
    "arr4"
   ]
  },
  {
   "cell_type": "code",
   "execution_count": 15,
   "id": "de6cff49",
   "metadata": {},
   "outputs": [
    {
     "data": {
      "text/plain": [
       "dtype('S21')"
      ]
     },
     "execution_count": 15,
     "metadata": {},
     "output_type": "execute_result"
    }
   ],
   "source": [
    "arr4.dtype"
   ]
  },
  {
   "cell_type": "markdown",
   "id": "b8b8471c",
   "metadata": {},
   "source": [
    "#### De string a int"
   ]
  },
  {
   "cell_type": "code",
   "execution_count": 18,
   "id": "9321f3b4",
   "metadata": {},
   "outputs": [
    {
     "data": {
      "text/plain": [
       "array([0, 1, 2, 3, 4, 5, 6], dtype=int8)"
      ]
     },
     "execution_count": 18,
     "metadata": {},
     "output_type": "execute_result"
    }
   ],
   "source": [
    "arr5 = np.array(['0','1','2','3','4','5','6'])\n",
    "arr5 = arr5.astype(np.int8)\n",
    "arr5"
   ]
  },
  {
   "cell_type": "code",
   "execution_count": 19,
   "id": "0e0d694a",
   "metadata": {},
   "outputs": [
    {
     "data": {
      "text/plain": [
       "dtype('int8')"
      ]
     },
     "execution_count": 19,
     "metadata": {},
     "output_type": "execute_result"
    }
   ],
   "source": [
    "arr5.dtype"
   ]
  },
  {
   "cell_type": "markdown",
   "id": "7d7ecccb",
   "metadata": {},
   "source": [
    "#### invalid literal for int() with base 10:\n",
    "* Un texto no puede convertirse a entero"
   ]
  },
  {
   "cell_type": "code",
   "execution_count": 20,
   "id": "ea50f44b",
   "metadata": {},
   "outputs": [
    {
     "ename": "ValueError",
     "evalue": "invalid literal for int() with base 10: 'hola'",
     "output_type": "error",
     "traceback": [
      "\u001b[0;31m---------------------------------------------------------------------------\u001b[0m",
      "\u001b[0;31mValueError\u001b[0m                                Traceback (most recent call last)",
      "Input \u001b[0;32mIn [20]\u001b[0m, in \u001b[0;36m<cell line: 2>\u001b[0;34m()\u001b[0m\n\u001b[1;32m      1\u001b[0m arr6 \u001b[38;5;241m=\u001b[39m np\u001b[38;5;241m.\u001b[39marray([\u001b[38;5;124m'\u001b[39m\u001b[38;5;124mhola\u001b[39m\u001b[38;5;124m'\u001b[39m,\u001b[38;5;124m'\u001b[39m\u001b[38;5;124m1\u001b[39m\u001b[38;5;124m'\u001b[39m,\u001b[38;5;124m'\u001b[39m\u001b[38;5;124m2\u001b[39m\u001b[38;5;124m'\u001b[39m,\u001b[38;5;124m'\u001b[39m\u001b[38;5;124m3\u001b[39m\u001b[38;5;124m'\u001b[39m,\u001b[38;5;124m'\u001b[39m\u001b[38;5;124m4\u001b[39m\u001b[38;5;124m'\u001b[39m,\u001b[38;5;124m'\u001b[39m\u001b[38;5;124m5\u001b[39m\u001b[38;5;124m'\u001b[39m,\u001b[38;5;124m'\u001b[39m\u001b[38;5;124m6\u001b[39m\u001b[38;5;124m'\u001b[39m])\n\u001b[0;32m----> 2\u001b[0m arr6 \u001b[38;5;241m=\u001b[39m \u001b[43marr6\u001b[49m\u001b[38;5;241;43m.\u001b[39;49m\u001b[43mastype\u001b[49m\u001b[43m(\u001b[49m\u001b[43mnp\u001b[49m\u001b[38;5;241;43m.\u001b[39;49m\u001b[43mint8\u001b[49m\u001b[43m)\u001b[49m\n\u001b[1;32m      3\u001b[0m arr6\n",
      "\u001b[0;31mValueError\u001b[0m: invalid literal for int() with base 10: 'hola'"
     ]
    }
   ],
   "source": [
    "arr6 = np.array(['hola','1','2','3','4','5','6'])\n",
    "arr6 = arr6.astype(np.int8)\n",
    "arr6"
   ]
  },
  {
   "cell_type": "markdown",
   "id": "ec9fa788",
   "metadata": {},
   "source": [
    "## Tipos de datos que maneja Numpy\n",
    "[Tipos de Datos](https://numpy.org/doc/stable/user/basics.types.html)"
   ]
  },
  {
   "cell_type": "code",
   "execution_count": null,
   "id": "89900951",
   "metadata": {},
   "outputs": [],
   "source": []
  }
 ],
 "metadata": {
  "kernelspec": {
   "display_name": "Python 3 (ipykernel)",
   "language": "python",
   "name": "python3"
  },
  "language_info": {
   "codemirror_mode": {
    "name": "ipython",
    "version": 3
   },
   "file_extension": ".py",
   "mimetype": "text/x-python",
   "name": "python",
   "nbconvert_exporter": "python",
   "pygments_lexer": "ipython3",
   "version": "3.10.0"
  }
 },
 "nbformat": 4,
 "nbformat_minor": 5
}
