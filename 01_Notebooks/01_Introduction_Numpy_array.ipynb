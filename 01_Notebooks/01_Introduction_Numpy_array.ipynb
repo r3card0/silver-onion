{
 "cells": [
  {
   "cell_type": "markdown",
   "id": "fd1af972",
   "metadata": {},
   "source": [
    "# Numpy\n",
    "* Usado para las listas de python. Arrays\n",
    "* Array de numpya es el principal objeto\n",
    "* Se caracteriza por se ordenado y fácil de acceder, esto se da por que\n",
    "* El array tiene una estructura indexada. Esto quiere decir que tiene encabezados que puede identificar fácilmente cada objeto (elemento) que se encuentra en el array.\n",
    "* Puede contener millones de datos y\n",
    "* Accesa a uno o muchos elementos, a grupos de elementos, etc\n",
    "* Opensource\n",
    "* A partir de una lista de python, se usa ````np.array([1,2,3]) ````y lo convierte en array"
   ]
  },
  {
   "cell_type": "code",
   "execution_count": 3,
   "id": "e4fb6100",
   "metadata": {},
   "outputs": [],
   "source": [
    "# Libraries\n",
    "import numpy as np"
   ]
  },
  {
   "cell_type": "markdown",
   "id": "85490008",
   "metadata": {},
   "source": [
    "## Array de 1 dimensión"
   ]
  },
  {
   "cell_type": "code",
   "execution_count": 4,
   "id": "086a66ff",
   "metadata": {},
   "outputs": [
    {
     "data": {
      "text/plain": [
       "[1, 2, 3, 4, 5, 6, 7, 8, 9]"
      ]
     },
     "execution_count": 4,
     "metadata": {},
     "output_type": "execute_result"
    }
   ],
   "source": [
    "# definir una lista\n",
    "lista_1 = [1,2,3,4,5,6,7,8,9]\n",
    "lista_1"
   ]
  },
  {
   "cell_type": "code",
   "execution_count": 7,
   "id": "d6fe03d8",
   "metadata": {},
   "outputs": [
    {
     "data": {
      "text/plain": [
       "array([1, 2, 3, 4, 5, 6, 7, 8, 9])"
      ]
     },
     "execution_count": 7,
     "metadata": {},
     "output_type": "execute_result"
    }
   ],
   "source": [
    "# Convertir la lista a un array con numpy\n",
    "arr = np.array(lista_1)\n",
    "arr"
   ]
  },
  {
   "cell_type": "code",
   "execution_count": 8,
   "id": "b70da6a7",
   "metadata": {},
   "outputs": [
    {
     "data": {
      "text/plain": [
       "numpy.ndarray"
      ]
     },
     "execution_count": 8,
     "metadata": {},
     "output_type": "execute_result"
    }
   ],
   "source": [
    "# Verificar tipo de dato\n",
    "type(arr)"
   ]
  },
  {
   "cell_type": "markdown",
   "id": "50c4f2b0",
   "metadata": {},
   "source": [
    "* Este array es de una dimensión\n",
    "* Se puede convertir de una a \" n\" dimensiones"
   ]
  },
  {
   "cell_type": "markdown",
   "id": "7cec2181",
   "metadata": {},
   "source": [
    "### Aplicar operaciones aritméticas en el array"
   ]
  },
  {
   "cell_type": "code",
   "execution_count": 13,
   "id": "6580de8c",
   "metadata": {},
   "outputs": [
    {
     "data": {
      "text/plain": [
       "array([1, 2, 3, 4, 5, 6, 7, 8, 9])"
      ]
     },
     "execution_count": 13,
     "metadata": {},
     "output_type": "execute_result"
    }
   ],
   "source": [
    "arr"
   ]
  },
  {
   "cell_type": "code",
   "execution_count": 12,
   "id": "a99d71c0",
   "metadata": {},
   "outputs": [
    {
     "data": {
      "text/plain": [
       "7"
      ]
     },
     "execution_count": 12,
     "metadata": {},
     "output_type": "execute_result"
    }
   ],
   "source": [
    "arr[0] + arr[5]"
   ]
  },
  {
   "cell_type": "markdown",
   "id": "74498015",
   "metadata": {},
   "source": [
    "### Como acceder a un elemento"
   ]
  },
  {
   "cell_type": "code",
   "execution_count": 11,
   "id": "f3041f87",
   "metadata": {},
   "outputs": [
    {
     "data": {
      "text/plain": [
       "1"
      ]
     },
     "execution_count": 11,
     "metadata": {},
     "output_type": "execute_result"
    }
   ],
   "source": [
    "arr[0]"
   ]
  },
  {
   "cell_type": "markdown",
   "id": "d158391a",
   "metadata": {},
   "source": [
    "### Como acceder a mas de un elemento?\n",
    "* Aplicando el slicing"
   ]
  },
  {
   "cell_type": "code",
   "execution_count": 17,
   "id": "891c665f",
   "metadata": {},
   "outputs": [
    {
     "data": {
      "text/plain": [
       "array([1, 2, 3, 4, 5, 6, 7, 8, 9])"
      ]
     },
     "execution_count": 17,
     "metadata": {},
     "output_type": "execute_result"
    }
   ],
   "source": [
    "arr"
   ]
  },
  {
   "cell_type": "code",
   "execution_count": 18,
   "id": "c5ffcaa6",
   "metadata": {},
   "outputs": [
    {
     "data": {
      "text/plain": [
       "array([1, 2, 3])"
      ]
     },
     "execution_count": 18,
     "metadata": {},
     "output_type": "execute_result"
    }
   ],
   "source": [
    "# Recuerda que extrae el valor anterior al indice indicado\n",
    "arr[0:3]"
   ]
  },
  {
   "cell_type": "code",
   "execution_count": 19,
   "id": "6d4fb420",
   "metadata": {},
   "outputs": [
    {
     "data": {
      "text/plain": [
       "array([3, 4, 5])"
      ]
     },
     "execution_count": 19,
     "metadata": {},
     "output_type": "execute_result"
    }
   ],
   "source": [
    "arr[2:5]"
   ]
  },
  {
   "cell_type": "code",
   "execution_count": 20,
   "id": "03f7ef42",
   "metadata": {},
   "outputs": [
    {
     "data": {
      "text/plain": [
       "array([1, 2, 3, 4, 5, 6])"
      ]
     },
     "execution_count": 20,
     "metadata": {},
     "output_type": "execute_result"
    }
   ],
   "source": [
    "# Sin valor al inicio\n",
    "arr[:6]"
   ]
  },
  {
   "cell_type": "code",
   "execution_count": 21,
   "id": "0fb16059",
   "metadata": {},
   "outputs": [
    {
     "data": {
      "text/plain": [
       "array([3, 4, 5, 6, 7, 8, 9])"
      ]
     },
     "execution_count": 21,
     "metadata": {},
     "output_type": "execute_result"
    }
   ],
   "source": [
    "#Sin valor al final\n",
    "arr[2:]"
   ]
  },
  {
   "cell_type": "code",
   "execution_count": 23,
   "id": "6220e1ef",
   "metadata": {},
   "outputs": [
    {
     "data": {
      "text/plain": [
       "array([1, 2, 3, 4, 5, 6, 7, 8, 9])"
      ]
     },
     "execution_count": 23,
     "metadata": {},
     "output_type": "execute_result"
    }
   ],
   "source": [
    "arr"
   ]
  },
  {
   "cell_type": "code",
   "execution_count": 22,
   "id": "32a406ff",
   "metadata": {
    "scrolled": true
   },
   "outputs": [
    {
     "data": {
      "text/plain": [
       "array([1, 4, 7])"
      ]
     },
     "execution_count": 22,
     "metadata": {},
     "output_type": "execute_result"
    }
   ],
   "source": [
    "# todo de 3 en 3\n",
    "arr[::3]"
   ]
  },
  {
   "cell_type": "code",
   "execution_count": 24,
   "id": "7e23b197",
   "metadata": {},
   "outputs": [
    {
     "data": {
      "text/plain": [
       "9"
      ]
     },
     "execution_count": 24,
     "metadata": {},
     "output_type": "execute_result"
    }
   ],
   "source": [
    "arr[-1]"
   ]
  },
  {
   "cell_type": "code",
   "execution_count": 25,
   "id": "1f4381ef",
   "metadata": {},
   "outputs": [
    {
     "data": {
      "text/plain": [
       "array([7, 8, 9])"
      ]
     },
     "execution_count": 25,
     "metadata": {},
     "output_type": "execute_result"
    }
   ],
   "source": [
    "arr[-3:]"
   ]
  },
  {
   "cell_type": "markdown",
   "id": "996270d4",
   "metadata": {},
   "source": [
    "## Matriz. Array de dos dimensiones\n",
    "* Convertir una lista de listas en matriz. Array de dos dimensiones."
   ]
  },
  {
   "cell_type": "code",
   "execution_count": 10,
   "id": "e8dd450b",
   "metadata": {},
   "outputs": [
    {
     "data": {
      "text/plain": [
       "array([[1, 2, 3],\n",
       "       [4, 5, 6],\n",
       "       [7, 8, 9]])"
      ]
     },
     "execution_count": 10,
     "metadata": {},
     "output_type": "execute_result"
    }
   ],
   "source": [
    "matriz = [[1,2,3],[4,5,6],[7,8,9]]\n",
    "matriz = np.array(matriz)\n",
    "matriz"
   ]
  },
  {
   "cell_type": "markdown",
   "id": "0a03d83d",
   "metadata": {},
   "source": [
    "### Como acceder a los elementos en matrices"
   ]
  },
  {
   "cell_type": "markdown",
   "id": "54597852",
   "metadata": {},
   "source": [
    "* Para extraer elementos de un array se usa el slicing\n",
    "* Recordar que el indexado comienza por el número \"0\""
   ]
  },
  {
   "cell_type": "markdown",
   "id": "3663c94c",
   "metadata": {},
   "source": [
    "¿Qué pasa al extraer el índice 0 de una matriz?\n",
    "* Se extrae los elementos de la fila 0 de la matriz"
   ]
  },
  {
   "cell_type": "code",
   "execution_count": 26,
   "id": "aed41d5a",
   "metadata": {},
   "outputs": [
    {
     "data": {
      "text/plain": [
       "array([1, 2, 3])"
      ]
     },
     "execution_count": 26,
     "metadata": {},
     "output_type": "execute_result"
    }
   ],
   "source": [
    "matriz[0]"
   ]
  },
  {
   "cell_type": "markdown",
   "id": "6231b42d",
   "metadata": {},
   "source": [
    "¿Qué pasa al usar dos valores en [a,b]"
   ]
  },
  {
   "cell_type": "markdown",
   "id": "b2dcbe2c",
   "metadata": {},
   "source": [
    "* El primer valor indica la posición en filas\n",
    "* El segundo valor indica la posición en columnas\n",
    "* De esta manera se puede extraer un valor de la matriz"
   ]
  },
  {
   "cell_type": "code",
   "execution_count": 16,
   "id": "e0fa3b74",
   "metadata": {},
   "outputs": [
    {
     "data": {
      "text/plain": [
       "2"
      ]
     },
     "execution_count": 16,
     "metadata": {},
     "output_type": "execute_result"
    }
   ],
   "source": [
    "matriz[0,1]"
   ]
  },
  {
   "cell_type": "markdown",
   "id": "4b7b3546",
   "metadata": {},
   "source": [
    "### Como acceder a varios elementos en las matrices"
   ]
  },
  {
   "cell_type": "code",
   "execution_count": 28,
   "id": "cedbf893",
   "metadata": {},
   "outputs": [
    {
     "data": {
      "text/plain": [
       "array([[4, 5, 6],\n",
       "       [7, 8, 9]])"
      ]
     },
     "execution_count": 28,
     "metadata": {},
     "output_type": "execute_result"
    }
   ],
   "source": [
    "matriz[1:]"
   ]
  },
  {
   "cell_type": "code",
   "execution_count": 31,
   "id": "6c60c017",
   "metadata": {},
   "outputs": [
    {
     "data": {
      "text/plain": [
       "array([[1, 2, 3]])"
      ]
     },
     "execution_count": 31,
     "metadata": {},
     "output_type": "execute_result"
    }
   ],
   "source": [
    "matriz[:1]"
   ]
  },
  {
   "cell_type": "code",
   "execution_count": 32,
   "id": "4d6bbd3b",
   "metadata": {},
   "outputs": [
    {
     "data": {
      "text/plain": [
       "array([[7, 8, 9]])"
      ]
     },
     "execution_count": 32,
     "metadata": {},
     "output_type": "execute_result"
    }
   ],
   "source": [
    "matriz[-1:]"
   ]
  },
  {
   "cell_type": "code",
   "execution_count": 33,
   "id": "daa407be",
   "metadata": {},
   "outputs": [
    {
     "data": {
      "text/plain": [
       "array([[1, 2, 3],\n",
       "       [4, 5, 6]])"
      ]
     },
     "execution_count": 33,
     "metadata": {},
     "output_type": "execute_result"
    }
   ],
   "source": [
    "matriz[:-1]"
   ]
  },
  {
   "cell_type": "code",
   "execution_count": 34,
   "id": "dd55ff7d",
   "metadata": {},
   "outputs": [
    {
     "data": {
      "text/plain": [
       "array([[4, 5],\n",
       "       [7, 8]])"
      ]
     },
     "execution_count": 34,
     "metadata": {},
     "output_type": "execute_result"
    }
   ],
   "source": [
    "matriz[1:,0:2]"
   ]
  },
  {
   "cell_type": "code",
   "execution_count": null,
   "id": "4ad70041",
   "metadata": {},
   "outputs": [],
   "source": []
  }
 ],
 "metadata": {
  "kernelspec": {
   "display_name": "Python 3 (ipykernel)",
   "language": "python",
   "name": "python3"
  },
  "language_info": {
   "codemirror_mode": {
    "name": "ipython",
    "version": 3
   },
   "file_extension": ".py",
   "mimetype": "text/x-python",
   "name": "python",
   "nbconvert_exporter": "python",
   "pygments_lexer": "ipython3",
   "version": "3.10.0"
  }
 },
 "nbformat": 4,
 "nbformat_minor": 5
}
