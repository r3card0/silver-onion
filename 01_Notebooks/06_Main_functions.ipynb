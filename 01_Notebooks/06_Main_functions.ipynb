{
 "cells": [
  {
   "cell_type": "markdown",
   "id": "b0932db5",
   "metadata": {},
   "source": [
    "# Funciones principales"
   ]
  },
  {
   "cell_type": "code",
   "execution_count": 1,
   "id": "e4fb6100",
   "metadata": {},
   "outputs": [],
   "source": [
    "# Libraries\n",
    "import numpy as np"
   ]
  },
  {
   "cell_type": "markdown",
   "id": "7f9785c3",
   "metadata": {},
   "source": [
    "## Comandos\n",
    "* max()\n",
    "* argmax() -> retorna el índice del array donde se encuentra el valor máximo\n",
    "* min()\n",
    "* argmin()\n",
    "* ptp (peek to peek) -> retorna la diferencia entre el valor máximo y el valor mínimo\n",
    "* percentile -> Retorna los percentiles de un array \n",
    "* sort() -> ordena los valores de un array\n",
    "* np.mean( )\n",
    "* np.median( )\n",
    "* np.std( )\n",
    "* np.var( )\n",
    "* np.concatenate( )"
   ]
  },
  {
   "cell_type": "code",
   "execution_count": 5,
   "id": "8e04b93d",
   "metadata": {},
   "outputs": [
    {
     "data": {
      "text/plain": [
       "array([ 7, 17,  9, 14,  9, 18,  2,  5, 13,  3])"
      ]
     },
     "execution_count": 5,
     "metadata": {},
     "output_type": "execute_result"
    }
   ],
   "source": [
    "# Crear arrary con valores int aleatorios\n",
    "arr = np.random.randint(1,20,10)\n",
    "arr"
   ]
  },
  {
   "cell_type": "code",
   "execution_count": 6,
   "id": "89d55f01",
   "metadata": {},
   "outputs": [
    {
     "data": {
      "text/plain": [
       "18"
      ]
     },
     "execution_count": 6,
     "metadata": {},
     "output_type": "execute_result"
    }
   ],
   "source": [
    "# Usar la función max()\n",
    "arr.max()"
   ]
  },
  {
   "cell_type": "code",
   "execution_count": 10,
   "id": "f2bbacdf",
   "metadata": {},
   "outputs": [
    {
     "data": {
      "text/plain": [
       "5"
      ]
     },
     "execution_count": 10,
     "metadata": {},
     "output_type": "execute_result"
    }
   ],
   "source": [
    "arr.argmax()"
   ]
  },
  {
   "cell_type": "code",
   "execution_count": 4,
   "id": "e768c347",
   "metadata": {},
   "outputs": [
    {
     "data": {
      "text/plain": [
       "array([[ 2, 10,  9,  7, 14],\n",
       "       [16, 11,  7, 11, 11]])"
      ]
     },
     "execution_count": 4,
     "metadata": {},
     "output_type": "execute_result"
    }
   ],
   "source": [
    "# Crear una matriz\n",
    "matriz = arr.reshape(2,5)\n",
    "matriz"
   ]
  },
  {
   "cell_type": "code",
   "execution_count": 7,
   "id": "ec18055a",
   "metadata": {},
   "outputs": [
    {
     "data": {
      "text/plain": [
       "16"
      ]
     },
     "execution_count": 7,
     "metadata": {},
     "output_type": "execute_result"
    }
   ],
   "source": [
    "# Usar max() en una matriz\n",
    "matriz.max()"
   ]
  },
  {
   "cell_type": "code",
   "execution_count": 8,
   "id": "e80d3aac",
   "metadata": {},
   "outputs": [
    {
     "data": {
      "text/plain": [
       "array([14, 16])"
      ]
     },
     "execution_count": 8,
     "metadata": {},
     "output_type": "execute_result"
    }
   ],
   "source": [
    "# Usar max() en filas\n",
    "matriz.max(1)"
   ]
  },
  {
   "cell_type": "code",
   "execution_count": 9,
   "id": "67c63f63",
   "metadata": {},
   "outputs": [
    {
     "data": {
      "text/plain": [
       "array([16, 11,  9, 11, 14])"
      ]
     },
     "execution_count": 9,
     "metadata": {},
     "output_type": "execute_result"
    }
   ],
   "source": [
    "# Usar max() en lkas columnas\n",
    "matriz.max(0)"
   ]
  },
  {
   "cell_type": "code",
   "execution_count": 11,
   "id": "7099831c",
   "metadata": {},
   "outputs": [
    {
     "data": {
      "text/plain": [
       "5"
      ]
     },
     "execution_count": 11,
     "metadata": {},
     "output_type": "execute_result"
    }
   ],
   "source": [
    "# Usar argmax() en la matriz\n",
    "matriz.argmax()"
   ]
  },
  {
   "cell_type": "code",
   "execution_count": null,
   "id": "c17e37cf",
   "metadata": {},
   "outputs": [],
   "source": [
    "# Completar ejercicios con min() y argmin()"
   ]
  },
  {
   "cell_type": "code",
   "execution_count": 14,
   "id": "3bc2ef2e",
   "metadata": {},
   "outputs": [
    {
     "name": "stdout",
     "output_type": "stream",
     "text": [
      "2\n",
      "18\n"
     ]
    },
    {
     "data": {
      "text/plain": [
       "16"
      ]
     },
     "execution_count": 14,
     "metadata": {},
     "output_type": "execute_result"
    }
   ],
   "source": [
    "print(arr.min())\n",
    "print(arr.max())\n",
    "arr.ptp()"
   ]
  },
  {
   "cell_type": "code",
   "execution_count": 16,
   "id": "59bacff6",
   "metadata": {},
   "outputs": [
    {
     "name": "stdout",
     "output_type": "stream",
     "text": [
      "2\n",
      "16\n"
     ]
    },
    {
     "data": {
      "text/plain": [
       "14"
      ]
     },
     "execution_count": 16,
     "metadata": {},
     "output_type": "execute_result"
    }
   ],
   "source": [
    "#ptp usado en matriz\n",
    "print(matriz.min())\n",
    "print(matriz.max())\n",
    "matriz.ptp()"
   ]
  },
  {
   "cell_type": "markdown",
   "id": "eedb2158",
   "metadata": {},
   "source": [
    "### np.percentile( x )\n",
    "* En 50, retorna el valor que se encuentra en la mitad o bien el promedio de los valores que se encuentran en medio del array"
   ]
  },
  {
   "cell_type": "code",
   "execution_count": 18,
   "id": "a377d85c",
   "metadata": {},
   "outputs": [
    {
     "data": {
      "text/plain": [
       "array([ 7, 17,  9, 14,  9, 18,  2,  5, 13,  3])"
      ]
     },
     "execution_count": 18,
     "metadata": {},
     "output_type": "execute_result"
    }
   ],
   "source": [
    "arr"
   ]
  },
  {
   "cell_type": "code",
   "execution_count": 17,
   "id": "d296e4ec",
   "metadata": {},
   "outputs": [
    {
     "data": {
      "text/plain": [
       "9.0"
      ]
     },
     "execution_count": 17,
     "metadata": {},
     "output_type": "execute_result"
    }
   ],
   "source": [
    "# usando percentile en el array\n",
    "np.percentile(arr,50) "
   ]
  },
  {
   "cell_type": "code",
   "execution_count": 19,
   "id": "4a6bd499",
   "metadata": {},
   "outputs": [
    {
     "data": {
      "text/plain": [
       "2.0"
      ]
     },
     "execution_count": 19,
     "metadata": {},
     "output_type": "execute_result"
    }
   ],
   "source": [
    "np.percentile(arr,0) # retorna el valor mas bajo"
   ]
  },
  {
   "cell_type": "code",
   "execution_count": 20,
   "id": "f4773405",
   "metadata": {},
   "outputs": [
    {
     "data": {
      "text/plain": [
       "18.0"
      ]
     },
     "execution_count": 20,
     "metadata": {},
     "output_type": "execute_result"
    }
   ],
   "source": [
    "np.percentile(arr,100) # retorna el valor más alto"
   ]
  },
  {
   "cell_type": "code",
   "execution_count": 22,
   "id": "29d9ff26",
   "metadata": {},
   "outputs": [
    {
     "data": {
      "text/plain": [
       "5.5"
      ]
     },
     "execution_count": 22,
     "metadata": {},
     "output_type": "execute_result"
    }
   ],
   "source": [
    "np.percentile(arr,25) # retorna el valor que esta entre el mas bajo y la mitad"
   ]
  },
  {
   "cell_type": "code",
   "execution_count": 25,
   "id": "2c6aada0",
   "metadata": {},
   "outputs": [
    {
     "data": {
      "text/plain": [
       "array([ 2,  3,  5,  7,  9,  9, 13, 14, 17, 18])"
      ]
     },
     "execution_count": 25,
     "metadata": {},
     "output_type": "execute_result"
    }
   ],
   "source": [
    "# ordena los elementos de un array\n",
    "arr.sort()\n",
    "arr"
   ]
  },
  {
   "cell_type": "markdown",
   "id": "f3dad853",
   "metadata": {},
   "source": [
    "### np.mean( )"
   ]
  },
  {
   "cell_type": "code",
   "execution_count": 37,
   "id": "44c8eaac",
   "metadata": {},
   "outputs": [
    {
     "data": {
      "text/plain": [
       "9.7"
      ]
     },
     "execution_count": 37,
     "metadata": {},
     "output_type": "execute_result"
    }
   ],
   "source": [
    "np.mean(arr)"
   ]
  },
  {
   "cell_type": "code",
   "execution_count": 36,
   "id": "c3288dfc",
   "metadata": {},
   "outputs": [
    {
     "data": {
      "text/plain": [
       "9.8"
      ]
     },
     "execution_count": 36,
     "metadata": {},
     "output_type": "execute_result"
    }
   ],
   "source": [
    "np.mean(matriz)"
   ]
  },
  {
   "cell_type": "code",
   "execution_count": null,
   "id": "64629d57",
   "metadata": {},
   "outputs": [],
   "source": []
  },
  {
   "cell_type": "code",
   "execution_count": null,
   "id": "6bcc489a",
   "metadata": {},
   "outputs": [],
   "source": []
  },
  {
   "cell_type": "markdown",
   "id": "c1c8960b",
   "metadata": {},
   "source": [
    "### np.median( )\n",
    "* Retorna la medina de un arreglo"
   ]
  },
  {
   "cell_type": "code",
   "execution_count": 26,
   "id": "e2dda19d",
   "metadata": {},
   "outputs": [
    {
     "data": {
      "text/plain": [
       "9.0"
      ]
     },
     "execution_count": 26,
     "metadata": {},
     "output_type": "execute_result"
    }
   ],
   "source": [
    "# aplicado en el array\n",
    "np.median(arr)"
   ]
  },
  {
   "cell_type": "code",
   "execution_count": 27,
   "id": "34d9073b",
   "metadata": {},
   "outputs": [
    {
     "data": {
      "text/plain": [
       "10.5"
      ]
     },
     "execution_count": 27,
     "metadata": {},
     "output_type": "execute_result"
    }
   ],
   "source": [
    "# aplicado en la matriz\n",
    "np.median(matriz) # retorna "
   ]
  },
  {
   "cell_type": "code",
   "execution_count": 28,
   "id": "b493e6b5",
   "metadata": {},
   "outputs": [
    {
     "data": {
      "text/plain": [
       "array([ 9., 11.])"
      ]
     },
     "execution_count": 28,
     "metadata": {},
     "output_type": "execute_result"
    }
   ],
   "source": [
    "np.median(matriz,1) # retorna la mediana de cada fila"
   ]
  },
  {
   "cell_type": "code",
   "execution_count": 29,
   "id": "9eb6210a",
   "metadata": {},
   "outputs": [
    {
     "data": {
      "text/plain": [
       "array([ 9. , 10.5,  8. ,  9. , 12.5])"
      ]
     },
     "execution_count": 29,
     "metadata": {},
     "output_type": "execute_result"
    }
   ],
   "source": [
    "np.median(matriz,0) # retorna la mediana de cada columna"
   ]
  },
  {
   "cell_type": "markdown",
   "id": "6cdf9820",
   "metadata": {},
   "source": [
    "# np.std( )\n",
    "* Retorna la desviación estandar del array"
   ]
  },
  {
   "cell_type": "code",
   "execution_count": 30,
   "id": "4c22a036",
   "metadata": {},
   "outputs": [
    {
     "data": {
      "text/plain": [
       "5.348831648126533"
      ]
     },
     "execution_count": 30,
     "metadata": {},
     "output_type": "execute_result"
    }
   ],
   "source": [
    "np.std(arr)"
   ]
  },
  {
   "cell_type": "code",
   "execution_count": 31,
   "id": "501baa47",
   "metadata": {},
   "outputs": [
    {
     "data": {
      "text/plain": [
       "3.7094473981982814"
      ]
     },
     "execution_count": 31,
     "metadata": {},
     "output_type": "execute_result"
    }
   ],
   "source": [
    "np.std(matriz)"
   ]
  },
  {
   "cell_type": "code",
   "execution_count": 32,
   "id": "e66eb54e",
   "metadata": {},
   "outputs": [
    {
     "data": {
      "text/plain": [
       "28.61"
      ]
     },
     "execution_count": 32,
     "metadata": {},
     "output_type": "execute_result"
    }
   ],
   "source": [
    "np.std(arr)**2"
   ]
  },
  {
   "cell_type": "code",
   "execution_count": 33,
   "id": "0a972d85",
   "metadata": {},
   "outputs": [
    {
     "data": {
      "text/plain": [
       "28.610000000000003"
      ]
     },
     "execution_count": 33,
     "metadata": {},
     "output_type": "execute_result"
    }
   ],
   "source": [
    "np.var(arr)"
   ]
  },
  {
   "cell_type": "markdown",
   "id": "d435ae26",
   "metadata": {},
   "source": [
    "### np.concatenate((a,b),axis=0)"
   ]
  },
  {
   "cell_type": "code",
   "execution_count": 38,
   "id": "8a902891",
   "metadata": {},
   "outputs": [],
   "source": [
    "brr = np.random.randint(1,20,10)"
   ]
  },
  {
   "cell_type": "code",
   "execution_count": 39,
   "id": "9bf2fe5f",
   "metadata": {},
   "outputs": [
    {
     "data": {
      "text/plain": [
       "array([ 7,  7, 12, 18,  1, 19, 17, 17, 17, 19])"
      ]
     },
     "execution_count": 39,
     "metadata": {},
     "output_type": "execute_result"
    }
   ],
   "source": [
    "brr"
   ]
  },
  {
   "cell_type": "code",
   "execution_count": 41,
   "id": "eaf75fc0",
   "metadata": {},
   "outputs": [],
   "source": [
    "new_one = np.concatenate((arr,brr),axis=0) # concatenar por "
   ]
  },
  {
   "cell_type": "code",
   "execution_count": 42,
   "id": "0830961a",
   "metadata": {},
   "outputs": [
    {
     "data": {
      "text/plain": [
       "array([ 2,  3,  5,  7,  9,  9, 13, 14, 17, 18,  7,  7, 12, 18,  1, 19, 17,\n",
       "       17, 17, 19])"
      ]
     },
     "execution_count": 42,
     "metadata": {},
     "output_type": "execute_result"
    }
   ],
   "source": [
    "new_one"
   ]
  },
  {
   "cell_type": "code",
   "execution_count": 43,
   "id": "024451e3",
   "metadata": {},
   "outputs": [
    {
     "ename": "AxisError",
     "evalue": "axis 1 is out of bounds for array of dimension 1",
     "output_type": "error",
     "traceback": [
      "\u001b[0;31m---------------------------------------------------------------------------\u001b[0m",
      "\u001b[0;31mAxisError\u001b[0m                                 Traceback (most recent call last)",
      "Input \u001b[0;32mIn [43]\u001b[0m, in \u001b[0;36m<cell line: 1>\u001b[0;34m()\u001b[0m\n\u001b[0;32m----> 1\u001b[0m new_two \u001b[38;5;241m=\u001b[39m \u001b[43mnp\u001b[49m\u001b[38;5;241;43m.\u001b[39;49m\u001b[43mconcatenate\u001b[49m\u001b[43m(\u001b[49m\u001b[43m(\u001b[49m\u001b[43marr\u001b[49m\u001b[43m,\u001b[49m\u001b[43mbrr\u001b[49m\u001b[43m)\u001b[49m\u001b[43m,\u001b[49m\u001b[43maxis\u001b[49m\u001b[38;5;241;43m=\u001b[39;49m\u001b[38;5;241;43m1\u001b[39;49m\u001b[43m)\u001b[49m\n",
      "File \u001b[0;32m<__array_function__ internals>:180\u001b[0m, in \u001b[0;36mconcatenate\u001b[0;34m(*args, **kwargs)\u001b[0m\n",
      "\u001b[0;31mAxisError\u001b[0m: axis 1 is out of bounds for array of dimension 1"
     ]
    }
   ],
   "source": [
    "new_two = np.concatenate((arr,brr),axis=1)"
   ]
  },
  {
   "cell_type": "code",
   "execution_count": null,
   "id": "44383eb8",
   "metadata": {},
   "outputs": [],
   "source": [
    "new_two"
   ]
  }
 ],
 "metadata": {
  "kernelspec": {
   "display_name": "Python 3 (ipykernel)",
   "language": "python",
   "name": "python3"
  },
  "language_info": {
   "codemirror_mode": {
    "name": "ipython",
    "version": 3
   },
   "file_extension": ".py",
   "mimetype": "text/x-python",
   "name": "python",
   "nbconvert_exporter": "python",
   "pygments_lexer": "ipython3",
   "version": "3.10.0"
  }
 },
 "nbformat": 4,
 "nbformat_minor": 5
}
